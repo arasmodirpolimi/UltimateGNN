{
 "cells": [
  {
   "cell_type": "markdown",
   "id": "e4fc0b68",
   "metadata": {},
   "source": [
    "# Direction"
   ]
  },
  {
   "cell_type": "code",
   "execution_count": 1,
   "id": "04e8a0dc",
   "metadata": {},
   "outputs": [
    {
     "name": "stdout",
     "output_type": "stream",
     "text": [
      "Requirement already satisfied: networkx in c:\\users\\armod\\anaconda3\\lib\\site-packages (2.8.4)\n"
     ]
    }
   ],
   "source": [
    "!pip install networkx"
   ]
  },
  {
   "cell_type": "code",
   "execution_count": 2,
   "id": "b1c6fa23",
   "metadata": {},
   "outputs": [
    {
     "ename": "ModuleNotFoundError",
     "evalue": "No module named 'matplotlib'",
     "output_type": "error",
     "traceback": [
      "\u001b[1;31m---------------------------------------------------------------------------\u001b[0m",
      "\u001b[1;31mModuleNotFoundError\u001b[0m                       Traceback (most recent call last)",
      "Cell \u001b[1;32mIn[2], line 2\u001b[0m\n\u001b[0;32m      1\u001b[0m \u001b[38;5;28;01mimport\u001b[39;00m \u001b[38;5;21;01mnetworkx\u001b[39;00m \u001b[38;5;28;01mas\u001b[39;00m \u001b[38;5;21;01mnx\u001b[39;00m\n\u001b[1;32m----> 2\u001b[0m \u001b[38;5;28;01mimport\u001b[39;00m \u001b[38;5;21;01mmatplotlib\u001b[39;00m\u001b[38;5;21;01m.\u001b[39;00m\u001b[38;5;21;01mpyplot\u001b[39;00m \u001b[38;5;28;01mas\u001b[39;00m \u001b[38;5;21;01mplt\u001b[39;00m\n",
      "\u001b[1;31mModuleNotFoundError\u001b[0m: No module named 'matplotlib'"
     ]
    }
   ],
   "source": [
    "import networkx as nx\n",
    "import matplotlib.pyplot as plt"
   ]
  },
  {
   "cell_type": "code",
   "execution_count": null,
   "id": "d377ceb0",
   "metadata": {},
   "outputs": [],
   "source": [
    "G = nx.Graph()"
   ]
  },
  {
   "cell_type": "code",
   "execution_count": null,
   "id": "6034eeeb",
   "metadata": {},
   "outputs": [],
   "source": [
    "G.add_edges_from([('A', 'B'), ('A', 'C'), ('B', 'D'), \n",
    "('B', 'E'), ('C', 'F'), ('C', 'G')])"
   ]
  },
  {
   "cell_type": "code",
   "execution_count": null,
   "id": "020498d1",
   "metadata": {},
   "outputs": [],
   "source": [
    "G"
   ]
  },
  {
   "cell_type": "code",
   "execution_count": null,
   "id": "d3f5a470",
   "metadata": {},
   "outputs": [],
   "source": [
    "plt.axis('off')\n",
    "nx.draw_networkx(G,node_size=600,font_color='white')"
   ]
  },
  {
   "cell_type": "code",
   "execution_count": null,
   "id": "c731350b",
   "metadata": {},
   "outputs": [],
   "source": [
    "# To create a directed graph\n",
    "\n",
    "DG = nx.DiGraph()\n",
    "DG.add_edges_from([('A', 'B'), ('A', 'C'), ('B', 'D'), \n",
    "('B', 'E'), ('C', 'F'), ('C', 'G')])"
   ]
  },
  {
   "cell_type": "code",
   "execution_count": null,
   "id": "69ae6899",
   "metadata": {},
   "outputs": [],
   "source": [
    "plt.axis('off')\n",
    "nx.draw_networkx(DG,node_size=600,cmap='coolwarm',font_color='white')"
   ]
  },
  {
   "cell_type": "code",
   "execution_count": null,
   "id": "9e9d6744",
   "metadata": {},
   "outputs": [],
   "source": []
  },
  {
   "cell_type": "markdown",
   "id": "192aff11",
   "metadata": {},
   "source": [
    "# Weight"
   ]
  },
  {
   "cell_type": "code",
   "execution_count": null,
   "id": "e3b542f0",
   "metadata": {},
   "outputs": [],
   "source": [
    "WG = nx.Graph()\n",
    "WG.add_edges_from([('A', 'B', {\"weight\": 10}), ('A', 'C', \n",
    "{\"weight\": 20}), ('B', 'D', {\"weight\": 30}), ('B', 'E', \n",
    "{\"weight\": 40}), ('C', 'F', {\"weight\": 50}), ('C', 'G', \n",
    "{\"weight\": 60})])\n",
    "labels = nx.get_edge_attributes(WG, \"weight\")"
   ]
  },
  {
   "cell_type": "code",
   "execution_count": null,
   "id": "ea407838",
   "metadata": {},
   "outputs": [],
   "source": [
    "plt.axis('off')\n",
    "nx.draw_networkx(WG,\n",
    "                 pos=nx.spring_layout(G, seed=0),\n",
    "                 node_size=600,\n",
    "                 cmap='coolwarm',\n",
    "                 font_size=14,\n",
    "                 font_color='white'\n",
    "                 )\n",
    "nx.draw_networkx_edge_labels(WG, pos=nx.spring_layout(G, seed=0), edge_labels=labels)"
   ]
  },
  {
   "cell_type": "code",
   "execution_count": null,
   "id": "2f7f305e",
   "metadata": {},
   "outputs": [],
   "source": []
  },
  {
   "cell_type": "markdown",
   "id": "4249cb12",
   "metadata": {},
   "source": [
    "# Connection"
   ]
  },
  {
   "cell_type": "code",
   "execution_count": null,
   "id": "149cae01",
   "metadata": {},
   "outputs": [],
   "source": [
    "G1 = nx.Graph()\n",
    "G1.add_edges_from([(1, 2), (2, 3), (3, 1), (4, 5)])\n",
    "print(f\"Is graph 1 connected? {nx.is_connected(G1)}\")\n",
    "\n",
    "G2 = nx.Graph()\n",
    "G2.add_edges_from([(1, 2), (2, 3), (3, 1), (1, 4)])\n",
    "print(f\"Is graph 2 connected? {nx.is_connected(G2)}\")"
   ]
  },
  {
   "cell_type": "code",
   "execution_count": null,
   "id": "723dd8cc",
   "metadata": {},
   "outputs": [],
   "source": [
    "plt.figure(figsize=(8,8))\n",
    "plt.subplot(221)\n",
    "plt.axis('off')\n",
    "nx.draw_networkx(G1,\n",
    "                 pos=nx.spring_layout(G1, seed=0),\n",
    "                 node_size=600,\n",
    "                 cmap='coolwarm',\n",
    "                 font_size=14,\n",
    "                 font_color='white'\n",
    "                 )\n",
    "plt.subplot(222)\n",
    "plt.axis('off')\n",
    "nx.draw_networkx(G2,\n",
    "                 pos=nx.spring_layout(G2, seed=0),\n",
    "                 node_size=600,\n",
    "                 cmap='coolwarm',\n",
    "                 font_size=14,\n",
    "                 font_color='white'\n",
    "                 )"
   ]
  },
  {
   "cell_type": "code",
   "execution_count": null,
   "id": "6b9d5045",
   "metadata": {},
   "outputs": [],
   "source": []
  },
  {
   "cell_type": "markdown",
   "id": "64f7c5a3",
   "metadata": {},
   "source": [
    "![types](2/types.png)"
   ]
  },
  {
   "cell_type": "code",
   "execution_count": null,
   "id": "994c0382",
   "metadata": {},
   "outputs": [],
   "source": []
  },
  {
   "cell_type": "code",
   "execution_count": null,
   "id": "5adfe6d3",
   "metadata": {},
   "outputs": [],
   "source": []
  },
  {
   "cell_type": "code",
   "execution_count": null,
   "id": "46b9300c",
   "metadata": {},
   "outputs": [],
   "source": []
  },
  {
   "cell_type": "code",
   "execution_count": null,
   "id": "dc202ba5",
   "metadata": {},
   "outputs": [],
   "source": []
  },
  {
   "cell_type": "code",
   "execution_count": null,
   "id": "16a5ce6f",
   "metadata": {},
   "outputs": [],
   "source": []
  },
  {
   "cell_type": "code",
   "execution_count": null,
   "id": "625fb51d",
   "metadata": {},
   "outputs": [],
   "source": []
  },
  {
   "cell_type": "code",
   "execution_count": null,
   "id": "a43580d4",
   "metadata": {},
   "outputs": [],
   "source": []
  },
  {
   "cell_type": "code",
   "execution_count": null,
   "id": "6fdad8fc",
   "metadata": {},
   "outputs": [],
   "source": []
  },
  {
   "cell_type": "code",
   "execution_count": null,
   "id": "5d063858",
   "metadata": {},
   "outputs": [],
   "source": []
  },
  {
   "cell_type": "code",
   "execution_count": null,
   "id": "f959c730",
   "metadata": {},
   "outputs": [],
   "source": []
  },
  {
   "cell_type": "code",
   "execution_count": null,
   "id": "90618c03",
   "metadata": {},
   "outputs": [],
   "source": []
  },
  {
   "cell_type": "code",
   "execution_count": null,
   "id": "fefb3f05",
   "metadata": {},
   "outputs": [],
   "source": []
  },
  {
   "cell_type": "code",
   "execution_count": null,
   "id": "cbfb5fdb",
   "metadata": {},
   "outputs": [],
   "source": []
  },
  {
   "cell_type": "code",
   "execution_count": null,
   "id": "512114c0",
   "metadata": {},
   "outputs": [],
   "source": []
  }
 ],
 "metadata": {
  "kernelspec": {
   "display_name": "Python 3 (ipykernel)",
   "language": "python",
   "name": "python3"
  },
  "language_info": {
   "codemirror_mode": {
    "name": "ipython",
    "version": 3
   },
   "file_extension": ".py",
   "mimetype": "text/x-python",
   "name": "python",
   "nbconvert_exporter": "python",
   "pygments_lexer": "ipython3",
   "version": "3.11.3"
  }
 },
 "nbformat": 4,
 "nbformat_minor": 5
}
