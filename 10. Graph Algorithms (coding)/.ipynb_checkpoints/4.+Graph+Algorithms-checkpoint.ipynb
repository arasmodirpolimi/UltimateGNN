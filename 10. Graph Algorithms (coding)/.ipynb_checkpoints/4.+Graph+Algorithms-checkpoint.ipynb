{
 "cells": [
  {
   "cell_type": "code",
   "execution_count": 1,
   "id": "b3711e46",
   "metadata": {},
   "outputs": [],
   "source": [
    "import networkx as nx\n",
    "import matplotlib.pyplot as plt"
   ]
  },
  {
   "cell_type": "code",
   "execution_count": 2,
   "id": "5adecf3e",
   "metadata": {},
   "outputs": [],
   "source": [
    "G = nx.Graph()\n",
    "G.add_edges_from([('A', 'B'), ('A', 'C'), ('B', 'D'), ('B', 'E'), ('C', 'F'), ('C', 'G')])"
   ]
  },
  {
   "cell_type": "code",
   "execution_count": 3,
   "id": "cef3d6f6",
   "metadata": {},
   "outputs": [
    {
     "data": {
      "text/plain": [
       "AtlasView({'B': {}, 'C': {}})"
      ]
     },
     "execution_count": 3,
     "metadata": {},
     "output_type": "execute_result"
    }
   ],
   "source": [
    "G['A']"
   ]
  },
  {
   "cell_type": "code",
   "execution_count": 4,
   "id": "704c46be",
   "metadata": {},
   "outputs": [
    {
     "name": "stdout",
     "output_type": "stream",
     "text": [
      "------------\n",
      "Visited at B\n",
      "Visited at C\n",
      "------------\n",
      "Visited at D\n",
      "Visited at E\n",
      "------------\n",
      "Visited at F\n",
      "Visited at G\n",
      "------------\n",
      "------------\n",
      "------------\n",
      "------------\n"
     ]
    },
    {
     "data": {
      "text/plain": [
       "['A', 'B', 'C', 'D', 'E', 'F', 'G']"
      ]
     },
     "execution_count": 4,
     "metadata": {},
     "output_type": "execute_result"
    }
   ],
   "source": [
    "def bfs(graph, node):\n",
    "    visited, queue = [node], [node]\n",
    "\n",
    "    while queue:\n",
    "        node = queue.pop(0)\n",
    "        print('------------')\n",
    "        for neighbor in graph[node]:\n",
    "            if neighbor not in visited:\n",
    "                print(f\"Visited at {neighbor}\")\n",
    "                visited.append(neighbor)\n",
    "                queue.append(neighbor)\n",
    "\n",
    "    return visited\n",
    "\n",
    "bfs(G, 'A')"
   ]
  },
  {
   "cell_type": "code",
   "execution_count": 5,
   "id": "c5351fea",
   "metadata": {},
   "outputs": [
    {
     "name": "stdout",
     "output_type": "stream",
     "text": [
      "A has been visited\n",
      "B has been visited\n",
      "D has been visited\n",
      "E has been visited\n",
      "C has been visited\n",
      "F has been visited\n",
      "G has been visited\n"
     ]
    },
    {
     "data": {
      "text/plain": [
       "['A', 'B', 'D', 'E', 'C', 'F', 'G']"
      ]
     },
     "execution_count": 5,
     "metadata": {},
     "output_type": "execute_result"
    }
   ],
   "source": [
    "visited = []\n",
    "\n",
    "def dfs(visited, graph, node):\n",
    "    if node not in visited:\n",
    "        print(f\"{node} has been visited\")\n",
    "        visited.append(node)\n",
    "        for neighbor in graph[node]:\n",
    "            visited = dfs(visited, graph, neighbor)\n",
    "\n",
    "    return visited\n",
    "\n",
    "dfs(visited, G, 'A')"
   ]
  }
 ],
 "metadata": {
  "kernelspec": {
   "display_name": "Python 3 (ipykernel)",
   "language": "python",
   "name": "python3"
  },
  "language_info": {
   "codemirror_mode": {
    "name": "ipython",
    "version": 3
   },
   "file_extension": ".py",
   "mimetype": "text/x-python",
   "name": "python",
   "nbconvert_exporter": "python",
   "pygments_lexer": "ipython3",
   "version": "3.11.3"
  }
 },
 "nbformat": 4,
 "nbformat_minor": 5
}
