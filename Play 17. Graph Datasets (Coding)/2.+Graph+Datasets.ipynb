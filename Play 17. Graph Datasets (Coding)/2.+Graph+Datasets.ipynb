{
 "cells": [
  {
   "cell_type": "code",
   "execution_count": 1,
   "id": "88c2404d",
   "metadata": {},
   "outputs": [
    {
     "name": "stdout",
     "output_type": "stream",
     "text": [
      "Looking in links: https://data.pyg.org/whl/torch-2.0.1%2Bcu118.html\n",
      "Requirement already satisfied: torch-scatter in c:\\users\\armod\\anaconda3\\lib\\site-packages (2.1.1+pt20cu118)\n",
      "Looking in links: https://data.pyg.org/whl/torch-2.0.1%2Bcu118.html\n",
      "Requirement already satisfied: torch-sparse in c:\\users\\armod\\anaconda3\\lib\\site-packages (0.6.17+pt20cu118)\n",
      "Requirement already satisfied: scipy in c:\\users\\armod\\anaconda3\\lib\\site-packages (from torch-sparse) (1.11.1)\n",
      "Requirement already satisfied: numpy<1.28.0,>=1.21.6 in c:\\users\\armod\\anaconda3\\lib\\site-packages (from scipy->torch-sparse) (1.25.0)\n",
      "Looking in links: https://data.pyg.org/whl/torch-2.0.1%2Bcu118.html\n",
      "Requirement already satisfied: torch-cluster in c:\\users\\armod\\anaconda3\\lib\\site-packages (1.6.1+pt20cu118)\n",
      "Requirement already satisfied: scipy in c:\\users\\armod\\anaconda3\\lib\\site-packages (from torch-cluster) (1.11.1)\n",
      "Requirement already satisfied: numpy<1.28.0,>=1.21.6 in c:\\users\\armod\\anaconda3\\lib\\site-packages (from scipy->torch-cluster) (1.25.0)\n",
      "Looking in links: https://data.pyg.org/whl/torch-2.0.1%2Bcu118.html\n",
      "Requirement already satisfied: torch-spline-conv in c:\\users\\armod\\anaconda3\\lib\\site-packages (1.2.2+pt20cu118)\n",
      "Looking in links: https://data.pyg.org/whl/torch-2.0.1%2Bcu118.html\n",
      "Requirement already satisfied: torch-geometric in c:\\users\\armod\\anaconda3\\lib\\site-packages (2.3.1)\n",
      "Requirement already satisfied: tqdm in c:\\users\\armod\\anaconda3\\lib\\site-packages (from torch-geometric) (4.65.0)\n",
      "Requirement already satisfied: numpy in c:\\users\\armod\\anaconda3\\lib\\site-packages (from torch-geometric) (1.25.0)\n",
      "Requirement already satisfied: scipy in c:\\users\\armod\\anaconda3\\lib\\site-packages (from torch-geometric) (1.11.1)\n",
      "Requirement already satisfied: jinja2 in c:\\users\\armod\\anaconda3\\lib\\site-packages (from torch-geometric) (3.1.2)\n",
      "Requirement already satisfied: requests in c:\\users\\armod\\anaconda3\\lib\\site-packages (from torch-geometric) (2.29.0)\n",
      "Requirement already satisfied: pyparsing in c:\\users\\armod\\anaconda3\\lib\\site-packages (from torch-geometric) (3.1.1)\n",
      "Requirement already satisfied: scikit-learn in c:\\users\\armod\\anaconda3\\lib\\site-packages (from torch-geometric) (1.3.0)\n",
      "Requirement already satisfied: psutil>=5.8.0 in c:\\users\\armod\\anaconda3\\lib\\site-packages (from torch-geometric) (5.9.0)\n",
      "Requirement already satisfied: MarkupSafe>=2.0 in c:\\users\\armod\\anaconda3\\lib\\site-packages (from jinja2->torch-geometric) (2.1.1)\n",
      "Requirement already satisfied: charset-normalizer<4,>=2 in c:\\users\\armod\\anaconda3\\lib\\site-packages (from requests->torch-geometric) (2.0.4)\n",
      "Requirement already satisfied: idna<4,>=2.5 in c:\\users\\armod\\anaconda3\\lib\\site-packages (from requests->torch-geometric) (3.4)\n",
      "Requirement already satisfied: urllib3<1.27,>=1.21.1 in c:\\users\\armod\\anaconda3\\lib\\site-packages (from requests->torch-geometric) (1.26.16)\n",
      "Requirement already satisfied: certifi>=2017.4.17 in c:\\users\\armod\\anaconda3\\lib\\site-packages (from requests->torch-geometric) (2023.7.22)\n",
      "Requirement already satisfied: joblib>=1.1.1 in c:\\users\\armod\\anaconda3\\lib\\site-packages (from scikit-learn->torch-geometric) (1.3.2)\n",
      "Requirement already satisfied: threadpoolctl>=2.0.0 in c:\\users\\armod\\anaconda3\\lib\\site-packages (from scikit-learn->torch-geometric) (3.2.0)\n",
      "Requirement already satisfied: colorama in c:\\users\\armod\\anaconda3\\lib\\site-packages (from tqdm->torch-geometric) (0.4.6)\n"
     ]
    }
   ],
   "source": [
    "!pip install torch-scatter -f https://data.pyg.org/whl/torch-2.0.1%2Bcu118.html\n",
    "!pip install torch-sparse -f https://data.pyg.org/whl/torch-2.0.1%2Bcu118.html\n",
    "!pip install torch-cluster -f https://data.pyg.org/whl/torch-2.0.1%2Bcu118.html\n",
    "!pip install torch-spline-conv -f https://data.pyg.org/whl/torch-2.0.1%2Bcu118.html\n",
    "!pip install torch-geometric -f https://data.pyg.org/whl/torch-2.0.1%2Bcu118.html"
   ]
  },
  {
   "cell_type": "code",
   "execution_count": 2,
   "id": "e321d6fe",
   "metadata": {},
   "outputs": [
    {
     "name": "stdout",
     "output_type": "stream",
     "text": [
      "2.0.1\n"
     ]
    }
   ],
   "source": [
    "import torch\n",
    "print(torch.__version__)"
   ]
  },
  {
   "cell_type": "code",
   "execution_count": 1,
   "id": "eedd87f1",
   "metadata": {},
   "outputs": [],
   "source": [
    "import torch\n",
    "from torch_geometric.datasets import Planetoid\n",
    "from torch_geometric.datasets import FacebookPagePage\n",
    "\n",
    "\n",
    "torch.manual_seed(0)\n",
    "torch.cuda.manual_seed(0)\n",
    "torch.cuda.manual_seed_all(0)\n",
    "torch.backends.cudnn.deterministic = True\n",
    "torch.backends.cudnn.benchmark = False"
   ]
  },
  {
   "cell_type": "markdown",
   "id": "be94b719",
   "metadata": {},
   "source": [
    "# Cora Dataset"
   ]
  },
  {
   "cell_type": "code",
   "execution_count": 4,
   "id": "4ca66d95",
   "metadata": {},
   "outputs": [
    {
     "name": "stderr",
     "output_type": "stream",
     "text": [
      "Downloading https://github.com/kimiyoung/planetoid/raw/master/data/ind.cora.x\n",
      "Downloading https://github.com/kimiyoung/planetoid/raw/master/data/ind.cora.tx\n",
      "Downloading https://github.com/kimiyoung/planetoid/raw/master/data/ind.cora.allx\n",
      "Downloading https://github.com/kimiyoung/planetoid/raw/master/data/ind.cora.y\n",
      "Downloading https://github.com/kimiyoung/planetoid/raw/master/data/ind.cora.ty\n",
      "Downloading https://github.com/kimiyoung/planetoid/raw/master/data/ind.cora.ally\n",
      "Downloading https://github.com/kimiyoung/planetoid/raw/master/data/ind.cora.graph\n",
      "Downloading https://github.com/kimiyoung/planetoid/raw/master/data/ind.cora.test.index\n",
      "Processing...\n",
      "Done!\n"
     ]
    }
   ],
   "source": [
    "# Import dataset from PyTorch Geometric\n",
    "dataset = Planetoid(root=\".\", name=\"Cora\")"
   ]
  },
  {
   "cell_type": "code",
   "execution_count": 5,
   "id": "79fae3bd",
   "metadata": {},
   "outputs": [
    {
     "name": "stdout",
     "output_type": "stream",
     "text": [
      "Dataset: Cora()\n",
      "---------------\n",
      "Number of graphs: 1\n",
      "Number of nodes: 2708\n",
      "Number of features: 1433\n",
      "Number of classes: 7\n",
      "\n",
      "Graph:\n",
      "------\n",
      "Edges are directed: False\n",
      "Graph has isolated nodes: False\n",
      "Graph has loops: False\n"
     ]
    }
   ],
   "source": [
    "data = dataset[0]\n",
    "\n",
    "# Print information about the dataset\n",
    "print(f'Dataset: {dataset}')\n",
    "print('---------------')\n",
    "print(f'Number of graphs: {len(dataset)}')\n",
    "print(f'Number of nodes: {data.x.shape[0]}')\n",
    "print(f'Number of features: {dataset.num_features}')\n",
    "print(f'Number of classes: {dataset.num_classes}')\n",
    "\n",
    "# Print information about the graph\n",
    "print(f'\\nGraph:')\n",
    "print('------')\n",
    "print(f'Edges are directed: {data.is_directed()}')\n",
    "print(f'Graph has isolated nodes: {data.has_isolated_nodes()}')\n",
    "print(f'Graph has loops: {data.has_self_loops()}')"
   ]
  },
  {
   "cell_type": "code",
   "execution_count": 6,
   "id": "d61444fc",
   "metadata": {
    "scrolled": true
   },
   "outputs": [
    {
     "name": "stderr",
     "output_type": "stream",
     "text": [
      "C:\\Users\\armod\\anaconda3\\Lib\\site-packages\\torch_geometric\\data\\in_memory_dataset.py:157: UserWarning: It is not recommended to directly access the internal storage format `data` of an 'InMemoryDataset'. If you are absolutely certain what you are doing, access the internal storage via `InMemoryDataset._data` instead to suppress this warning. Alternatively, you can access stacked individual attributes of every graph via `dataset.{attr_name}`.\n",
      "  warnings.warn(msg)\n"
     ]
    },
    {
     "data": {
      "text/plain": [
       "Data(x=[2708, 1433], edge_index=[2, 10556], y=[2708], train_mask=[2708], val_mask=[2708], test_mask=[2708])"
      ]
     },
     "execution_count": 6,
     "metadata": {},
     "output_type": "execute_result"
    }
   ],
   "source": [
    "dataset.data"
   ]
  },
  {
   "cell_type": "code",
   "execution_count": 7,
   "id": "2d220a7b",
   "metadata": {},
   "outputs": [
    {
     "data": {
      "text/plain": [
       "tensor([3, 4, 4,  ..., 3, 3, 3])"
      ]
     },
     "execution_count": 7,
     "metadata": {},
     "output_type": "execute_result"
    }
   ],
   "source": [
    "dataset.y"
   ]
  },
  {
   "cell_type": "code",
   "execution_count": 8,
   "id": "68b0cf30",
   "metadata": {},
   "outputs": [
    {
     "data": {
      "text/plain": [
       "tensor([[0., 0., 0.,  ..., 0., 0., 0.],\n",
       "        [0., 0., 0.,  ..., 0., 0., 0.],\n",
       "        [0., 0., 0.,  ..., 0., 0., 0.],\n",
       "        ...,\n",
       "        [0., 0., 0.,  ..., 0., 0., 0.],\n",
       "        [0., 0., 0.,  ..., 0., 0., 0.],\n",
       "        [0., 0., 0.,  ..., 0., 0., 0.]])"
      ]
     },
     "execution_count": 8,
     "metadata": {},
     "output_type": "execute_result"
    }
   ],
   "source": [
    "dataset.x"
   ]
  },
  {
   "cell_type": "code",
   "execution_count": 9,
   "id": "2ab2b200",
   "metadata": {},
   "outputs": [
    {
     "data": {
      "text/plain": [
       "tensor([[   0,    0,    0,  ..., 2707, 2707, 2707],\n",
       "        [ 633, 1862, 2582,  ...,  598, 1473, 2706]])"
      ]
     },
     "execution_count": 9,
     "metadata": {},
     "output_type": "execute_result"
    }
   ],
   "source": [
    "dataset.edge_index"
   ]
  },
  {
   "cell_type": "code",
   "execution_count": 10,
   "id": "db1b312b",
   "metadata": {},
   "outputs": [
    {
     "data": {
      "text/plain": [
       "torch.Size([2, 10556])"
      ]
     },
     "execution_count": 10,
     "metadata": {},
     "output_type": "execute_result"
    }
   ],
   "source": [
    "dataset.edge_index.shape"
   ]
  },
  {
   "cell_type": "code",
   "execution_count": null,
   "id": "86981817",
   "metadata": {},
   "outputs": [],
   "source": []
  },
  {
   "cell_type": "markdown",
   "id": "4c778e47",
   "metadata": {},
   "source": [
    "# Facebook Dataset"
   ]
  },
  {
   "cell_type": "code",
   "execution_count": 11,
   "id": "7fc13922",
   "metadata": {},
   "outputs": [
    {
     "name": "stderr",
     "output_type": "stream",
     "text": [
      "Downloading https://graphmining.ai/datasets/ptg/facebook.npz\n"
     ]
    },
    {
     "name": "stdout",
     "output_type": "stream",
     "text": [
      "Dataset: FacebookPagePage()\n",
      "-----------------------\n",
      "Number of graphs: 1\n",
      "Number of nodes: 22470\n",
      "Number of features: 128\n",
      "Number of classes: 4\n",
      "\n",
      "Graph:\n",
      "------\n",
      "Edges are directed: False\n",
      "Graph has isolated nodes: False\n",
      "Graph has loops: True\n"
     ]
    },
    {
     "name": "stderr",
     "output_type": "stream",
     "text": [
      "Processing...\n",
      "Done!\n"
     ]
    }
   ],
   "source": [
    "dataset = FacebookPagePage(root=\".\")\n",
    "\n",
    "data = dataset[0]\n",
    "\n",
    "# Print information about the dataset\n",
    "print(f'Dataset: {dataset}')\n",
    "print('-----------------------')\n",
    "print(f'Number of graphs: {len(dataset)}')\n",
    "print(f'Number of nodes: {data.x.shape[0]}')\n",
    "print(f'Number of features: {dataset.num_features}')\n",
    "print(f'Number of classes: {dataset.num_classes}')\n",
    "\n",
    "# Print information about the graph\n",
    "print(f'\\nGraph:')\n",
    "print('------')\n",
    "print(f'Edges are directed: {data.is_directed()}')\n",
    "print(f'Graph has isolated nodes: {data.has_isolated_nodes()}')\n",
    "print(f'Graph has loops: {data.has_self_loops()}')\n",
    "\n",
    "# Create masks\n",
    "data.train_mask = range(18000)\n",
    "data.val_mask = range(18001, 20000)\n",
    "data.test_mask = range(20001, 22470)"
   ]
  },
  {
   "cell_type": "code",
   "execution_count": 12,
   "id": "141a2871",
   "metadata": {},
   "outputs": [
    {
     "data": {
      "text/plain": [
       "Data(x=[22470, 128], edge_index=[2, 342004], y=[22470])"
      ]
     },
     "execution_count": 12,
     "metadata": {},
     "output_type": "execute_result"
    }
   ],
   "source": [
    "dataset.data"
   ]
  },
  {
   "cell_type": "code",
   "execution_count": 13,
   "id": "01739d8e",
   "metadata": {},
   "outputs": [
    {
     "data": {
      "text/plain": [
       "tensor([[-0.2626, -0.2765, -0.2624,  ..., -0.2151, -0.3759, -0.2238],\n",
       "        [-0.2626, -0.2765, -0.2624,  ..., -0.2151, -0.3641, -0.1286],\n",
       "        [-0.2626, -0.2651, -0.2624,  ..., -0.2151, -0.3759, -0.2238],\n",
       "        ...,\n",
       "        [-0.2626, -0.2765, -0.2624,  ..., -0.1804, -0.3721, -0.2226],\n",
       "        [-0.2626, -0.2765, -0.2624,  ..., -0.2151, -0.3759, -0.2181],\n",
       "        [-0.2323, -0.2765, -0.2624,  ..., -0.1959, -0.3759, -0.2213]])"
      ]
     },
     "execution_count": 13,
     "metadata": {},
     "output_type": "execute_result"
    }
   ],
   "source": [
    "dataset.x"
   ]
  },
  {
   "cell_type": "code",
   "execution_count": 14,
   "id": "9e5d8451",
   "metadata": {},
   "outputs": [
    {
     "data": {
      "text/plain": [
       "tensor([0, 2, 1,  ..., 2, 1, 0])"
      ]
     },
     "execution_count": 14,
     "metadata": {},
     "output_type": "execute_result"
    }
   ],
   "source": [
    "dataset.y"
   ]
  },
  {
   "cell_type": "code",
   "execution_count": 15,
   "id": "a3eae8c3",
   "metadata": {},
   "outputs": [
    {
     "data": {
      "text/plain": [
       "tensor([[    0, 18427,     1,  ...,  5563, 22425, 22425],\n",
       "        [18427,     0, 21708,  ...,  5563, 22425, 22425]])"
      ]
     },
     "execution_count": 15,
     "metadata": {},
     "output_type": "execute_result"
    }
   ],
   "source": [
    "dataset.edge_index"
   ]
  },
  {
   "cell_type": "code",
   "execution_count": null,
   "id": "8d1a4521",
   "metadata": {},
   "outputs": [],
   "source": []
  }
 ],
 "metadata": {
  "kernelspec": {
   "display_name": "Python 3 (ipykernel)",
   "language": "python",
   "name": "python3"
  },
  "language_info": {
   "codemirror_mode": {
    "name": "ipython",
    "version": 3
   },
   "file_extension": ".py",
   "mimetype": "text/x-python",
   "name": "python",
   "nbconvert_exporter": "python",
   "pygments_lexer": "ipython3",
   "version": "3.11.3"
  }
 },
 "nbformat": 4,
 "nbformat_minor": 5
}
