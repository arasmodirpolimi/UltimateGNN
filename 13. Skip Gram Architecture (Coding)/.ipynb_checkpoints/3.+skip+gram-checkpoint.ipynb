{
 "cells": [
  {
   "cell_type": "code",
   "execution_count": 1,
   "id": "674c0a43",
   "metadata": {},
   "outputs": [],
   "source": [
    "!pip install -qU gensim"
   ]
  },
  {
   "cell_type": "code",
   "execution_count": 2,
   "id": "a38f3586",
   "metadata": {},
   "outputs": [],
   "source": [
    "import numpy as np\n",
    "np.random.seed(0)"
   ]
  },
  {
   "cell_type": "code",
   "execution_count": 3,
   "id": "088a8c0b",
   "metadata": {},
   "outputs": [],
   "source": [
    "CONTEXT_SIZE = 2\n",
    "\n",
    "text = \"\"\"Lorem ipsum dolor sit amet, consectetur adipiscing elit. Nunc eu sem \n",
    "scelerisque, dictum eros aliquam, accumsan quam. Pellentesque tempus, lorem ut \n",
    "semper fermentum, ante turpis accumsan ex, sit amet ultricies tortor erat quis \n",
    "nulla. Nunc consectetur ligula sit amet purus porttitor, vel tempus tortor \n",
    "scelerisque. Vestibulum ante ipsum primis in faucibus orci luctus et ultrices \n",
    "posuere cubilia curae; Quisque suscipit ligula nec faucibus accumsan. Duis \n",
    "vulputate massa sit amet viverra hendrerit. Integer maximus quis sapien id \n",
    "convallis. Donec elementum placerat ex laoreet gravida. Praesent quis enim \n",
    "facilisis, bibendum est nec, pharetra ex. Etiam pharetra congue justo, eget \n",
    "imperdiet diam varius non. Mauris dolor lectus, interdum in laoreet quis, \n",
    "faucibus vitae velit. Donec lacinia dui eget maximus cursus. Class aptent taciti\n",
    "sociosqu ad litora torquent per conubia nostra, per inceptos himenaeos. Vivamus\n",
    "tincidunt velit eget nisi ornare convallis. Pellentesque habitant morbi \n",
    "tristique senectus et netus et malesuada fames ac turpis egestas. Donec \n",
    "tristique ultrices tortor at accumsan.\n",
    "\"\"\".split()"
   ]
  },
  {
   "cell_type": "code",
   "execution_count": 10,
   "id": "65df0c4d",
   "metadata": {},
   "outputs": [
    {
     "data": {
      "text/plain": [
       "['Lorem',\n",
       " 'ipsum',\n",
       " 'dolor',\n",
       " 'sit',\n",
       " 'amet,',\n",
       " 'consectetur',\n",
       " 'adipiscing',\n",
       " 'elit.',\n",
       " 'Nunc',\n",
       " 'eu',\n",
       " 'sem',\n",
       " 'scelerisque,',\n",
       " 'dictum',\n",
       " 'eros',\n",
       " 'aliquam,',\n",
       " 'accumsan',\n",
       " 'quam.',\n",
       " 'Pellentesque',\n",
       " 'tempus,',\n",
       " 'lorem',\n",
       " 'ut',\n",
       " 'semper',\n",
       " 'fermentum,',\n",
       " 'ante',\n",
       " 'turpis',\n",
       " 'accumsan',\n",
       " 'ex,',\n",
       " 'sit',\n",
       " 'amet',\n",
       " 'ultricies',\n",
       " 'tortor',\n",
       " 'erat',\n",
       " 'quis',\n",
       " 'nulla.',\n",
       " 'Nunc',\n",
       " 'consectetur',\n",
       " 'ligula',\n",
       " 'sit',\n",
       " 'amet',\n",
       " 'purus',\n",
       " 'porttitor,',\n",
       " 'vel',\n",
       " 'tempus',\n",
       " 'tortor',\n",
       " 'scelerisque.',\n",
       " 'Vestibulum',\n",
       " 'ante',\n",
       " 'ipsum',\n",
       " 'primis',\n",
       " 'in',\n",
       " 'faucibus',\n",
       " 'orci',\n",
       " 'luctus',\n",
       " 'et',\n",
       " 'ultrices',\n",
       " 'posuere',\n",
       " 'cubilia',\n",
       " 'curae;',\n",
       " 'Quisque',\n",
       " 'suscipit',\n",
       " 'ligula',\n",
       " 'nec',\n",
       " 'faucibus',\n",
       " 'accumsan.',\n",
       " 'Duis',\n",
       " 'vulputate',\n",
       " 'massa',\n",
       " 'sit',\n",
       " 'amet',\n",
       " 'viverra',\n",
       " 'hendrerit.',\n",
       " 'Integer',\n",
       " 'maximus',\n",
       " 'quis',\n",
       " 'sapien',\n",
       " 'id',\n",
       " 'convallis.',\n",
       " 'Donec',\n",
       " 'elementum',\n",
       " 'placerat',\n",
       " 'ex',\n",
       " 'laoreet',\n",
       " 'gravida.',\n",
       " 'Praesent',\n",
       " 'quis',\n",
       " 'enim',\n",
       " 'facilisis,',\n",
       " 'bibendum',\n",
       " 'est',\n",
       " 'nec,',\n",
       " 'pharetra',\n",
       " 'ex.',\n",
       " 'Etiam',\n",
       " 'pharetra',\n",
       " 'congue',\n",
       " 'justo,',\n",
       " 'eget',\n",
       " 'imperdiet',\n",
       " 'diam',\n",
       " 'varius',\n",
       " 'non.',\n",
       " 'Mauris',\n",
       " 'dolor',\n",
       " 'lectus,',\n",
       " 'interdum',\n",
       " 'in',\n",
       " 'laoreet',\n",
       " 'quis,',\n",
       " 'faucibus',\n",
       " 'vitae',\n",
       " 'velit.',\n",
       " 'Donec',\n",
       " 'lacinia',\n",
       " 'dui',\n",
       " 'eget',\n",
       " 'maximus',\n",
       " 'cursus.',\n",
       " 'Class',\n",
       " 'aptent',\n",
       " 'taciti',\n",
       " 'sociosqu',\n",
       " 'ad',\n",
       " 'litora',\n",
       " 'torquent',\n",
       " 'per',\n",
       " 'conubia',\n",
       " 'nostra,',\n",
       " 'per',\n",
       " 'inceptos',\n",
       " 'himenaeos.',\n",
       " 'Vivamus',\n",
       " 'tincidunt',\n",
       " 'velit',\n",
       " 'eget',\n",
       " 'nisi',\n",
       " 'ornare',\n",
       " 'convallis.',\n",
       " 'Pellentesque',\n",
       " 'habitant',\n",
       " 'morbi',\n",
       " 'tristique',\n",
       " 'senectus',\n",
       " 'et',\n",
       " 'netus',\n",
       " 'et',\n",
       " 'malesuada',\n",
       " 'fames',\n",
       " 'ac',\n",
       " 'turpis',\n",
       " 'egestas.',\n",
       " 'Donec',\n",
       " 'tristique',\n",
       " 'ultrices',\n",
       " 'tortor',\n",
       " 'at',\n",
       " 'accumsan.']"
      ]
     },
     "execution_count": 10,
     "metadata": {},
     "output_type": "execute_result"
    }
   ],
   "source": [
    "text"
   ]
  },
  {
   "cell_type": "code",
   "execution_count": 11,
   "id": "a467d694",
   "metadata": {
    "scrolled": true
   },
   "outputs": [
    {
     "data": {
      "text/plain": [
       "156"
      ]
     },
     "execution_count": 11,
     "metadata": {},
     "output_type": "execute_result"
    }
   ],
   "source": [
    "len(text)"
   ]
  },
  {
   "cell_type": "code",
   "execution_count": 12,
   "id": "8b6dd9e9",
   "metadata": {},
   "outputs": [
    {
     "name": "stdout",
     "output_type": "stream",
     "text": [
      "[('dolor', ['Lorem', 'ipsum', 'sit', 'amet,']), ('sit', ['ipsum', 'dolor', 'amet,', 'consectetur'])]\n"
     ]
    }
   ],
   "source": [
    "# Create skipgrams\n",
    "skipgrams = []\n",
    "for i in range(CONTEXT_SIZE, len(text) - CONTEXT_SIZE):\n",
    "    array = [text[j] for j in np.arange(i - CONTEXT_SIZE, i + CONTEXT_SIZE + 1) if j != i]\n",
    "    skipgrams.append((text[i], array))\n",
    "\n",
    "print(skipgrams[0:2])"
   ]
  },
  {
   "cell_type": "code",
   "execution_count": 13,
   "id": "7c7975bd",
   "metadata": {},
   "outputs": [],
   "source": [
    "from gensim.models.word2vec import Word2Vec"
   ]
  },
  {
   "cell_type": "code",
   "execution_count": 14,
   "id": "1ce710d8",
   "metadata": {},
   "outputs": [
    {
     "name": "stdout",
     "output_type": "stream",
     "text": [
      "Shape of W_embed: (121, 10)\n"
     ]
    },
    {
     "data": {
      "text/plain": [
       "(690, 1560)"
      ]
     },
     "execution_count": 14,
     "metadata": {},
     "output_type": "execute_result"
    }
   ],
   "source": [
    "# Create Word2Vec\n",
    "model = Word2Vec([text],\n",
    "                 sg=1,   # Skip-gram\n",
    "                 vector_size=10,\n",
    "                 min_count=0,\n",
    "                 window=2,\n",
    "                 workers=1,\n",
    "                 seed=0)\n",
    "\n",
    "print(f'Shape of W_embed: {model.wv.vectors.shape}')\n",
    "\n",
    "# Train model\n",
    "model.train([text], total_examples=model.corpus_count, epochs=10)\n",
    "\n"
   ]
  },
  {
   "cell_type": "code",
   "execution_count": 15,
   "id": "acafe7f6",
   "metadata": {},
   "outputs": [
    {
     "name": "stdout",
     "output_type": "stream",
     "text": [
      "\n",
      "Word embedding =\n",
      "[ 0.07156403  0.03257632  0.00209916 -0.04374931 -0.03398107 -0.08656936\n",
      " -0.09047253 -0.0955243  -0.06482638  0.0660186 ]\n"
     ]
    }
   ],
   "source": [
    "# Print a word embedding\n",
    "print('\\nWord embedding =')\n",
    "print(model.wv[0])"
   ]
  },
  {
   "cell_type": "code",
   "execution_count": null,
   "id": "d5d9c4d9",
   "metadata": {},
   "outputs": [],
   "source": []
  },
  {
   "cell_type": "code",
   "execution_count": null,
   "id": "03224447",
   "metadata": {},
   "outputs": [],
   "source": []
  },
  {
   "cell_type": "code",
   "execution_count": null,
   "id": "cb435f41",
   "metadata": {},
   "outputs": [],
   "source": []
  },
  {
   "cell_type": "code",
   "execution_count": null,
   "id": "8986f4e3",
   "metadata": {},
   "outputs": [],
   "source": []
  },
  {
   "cell_type": "code",
   "execution_count": null,
   "id": "0f8f5546",
   "metadata": {},
   "outputs": [],
   "source": []
  },
  {
   "cell_type": "code",
   "execution_count": null,
   "id": "4ba34b2b",
   "metadata": {},
   "outputs": [],
   "source": []
  },
  {
   "cell_type": "code",
   "execution_count": null,
   "id": "9be5b023",
   "metadata": {},
   "outputs": [],
   "source": []
  },
  {
   "cell_type": "code",
   "execution_count": null,
   "id": "c8812b10",
   "metadata": {},
   "outputs": [],
   "source": []
  },
  {
   "cell_type": "code",
   "execution_count": null,
   "id": "653a0b3f",
   "metadata": {},
   "outputs": [],
   "source": []
  },
  {
   "cell_type": "code",
   "execution_count": null,
   "id": "ccb411ae",
   "metadata": {},
   "outputs": [],
   "source": []
  },
  {
   "cell_type": "code",
   "execution_count": null,
   "id": "20ecb18c",
   "metadata": {},
   "outputs": [],
   "source": []
  },
  {
   "cell_type": "code",
   "execution_count": null,
   "id": "763d9075",
   "metadata": {},
   "outputs": [],
   "source": []
  }
 ],
 "metadata": {
  "kernelspec": {
   "display_name": "Python 3 (ipykernel)",
   "language": "python",
   "name": "python3"
  },
  "language_info": {
   "codemirror_mode": {
    "name": "ipython",
    "version": 3
   },
   "file_extension": ".py",
   "mimetype": "text/x-python",
   "name": "python",
   "nbconvert_exporter": "python",
   "pygments_lexer": "ipython3",
   "version": "3.11.3"
  }
 },
 "nbformat": 4,
 "nbformat_minor": 5
}
